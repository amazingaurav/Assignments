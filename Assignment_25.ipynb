{
 "cells": [
  {
   "cell_type": "raw",
   "metadata": {},
   "source": [
    "1- What is the difference between enclosing a list comprehension in square brackets and\n",
    "parentheses?"
   ]
  },
  {
   "cell_type": "raw",
   "metadata": {},
   "source": [
    "#answer\n",
    "- List Comprehension with square brackets results in a new list.\n",
    "- List Comprehension with parentheses results in generation of generators."
   ]
  },
  {
   "cell_type": "raw",
   "metadata": {},
   "source": [
    "2- What is the relationship between generators and iterators?"
   ]
  },
  {
   "cell_type": "raw",
   "metadata": {},
   "source": [
    "#answer\n",
    "Iterators are used mostly to iterate or convert other objects to an iterator using iter() function.\n",
    "\n",
    "Generators are mostly used in loops to generate an iterator by returning all the values in the loop without affecting the iteration of the loop."
   ]
  },
  {
   "cell_type": "raw",
   "metadata": {},
   "source": [
    "3- What are the signs that a function is a generator function?"
   ]
  },
  {
   "cell_type": "raw",
   "metadata": {},
   "source": [
    "#answer\n",
    "A generator function uses a yield statement instead of a return statement. A generator function will always return a iterable object called generator. where as a normal function can return a string/list/tuple/dict."
   ]
  },
  {
   "cell_type": "raw",
   "metadata": {},
   "source": [
    "4- What is the purpose of a yield statement?"
   ]
  },
  {
   "cell_type": "raw",
   "metadata": {},
   "source": [
    "#answer\n",
    "The yield statement suspends function’s execution and sends a value back to the caller, but retains enough state to enable function to resume where it is left off. When resumed, the function continues execution immediately after the last yield run. This allows its code to produce a series of values over time, rather than computing them at once and sending them back like a list."
   ]
  },
  {
   "cell_type": "raw",
   "metadata": {},
   "source": [
    "5- What is the relationship between map calls and list comprehensions? Make a comparison and\n",
    "contrast between the two."
   ]
  },
  {
   "cell_type": "raw",
   "metadata": {},
   "source": [
    "#answer\n",
    "The main differences between map calls and list comprehensiosn are:\n",
    "\n",
    "List comprehension is more concise and easier to read as compared to map.\n",
    "List comprehension allows filtering. In map, we have no such facility. For example, to print all odd numbers in range of 50, we can write [n for n in range(50) if n%2 != 0]. There is no alternate for it in map\n",
    "List comprehension are used when a list of results is required as final output.but map only returns a map object. it needs to be explicitly coverted to desired datatype.\n",
    "List comprehension is faster than map when we need to evaluate expressions that are too long or complicated to express\n",
    "Map is faster in case of calling an already defined function on a set of values."
   ]
  }
 ],
 "metadata": {
  "kernelspec": {
   "display_name": "Python 3",
   "language": "python",
   "name": "python3"
  },
  "language_info": {
   "codemirror_mode": {
    "name": "ipython",
    "version": 3
   },
   "file_extension": ".py",
   "mimetype": "text/x-python",
   "name": "python",
   "nbconvert_exporter": "python",
   "pygments_lexer": "ipython3",
   "version": "3.6.4"
  }
 },
 "nbformat": 4,
 "nbformat_minor": 2
}
