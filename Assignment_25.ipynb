{
 "cells": [
  {
   "cell_type": "raw",
   "metadata": {},
   "source": [
    "1- What is the difference between enclosing a list comprehension in square brackets and\n",
    "parentheses?"
   ]
  },
  {
   "cell_type": "raw",
   "metadata": {},
   "source": [
    "#answer\n",
    "- List Comprehension with square brackets results in a new list.\n",
    "- List Comprehension with parentheses results in generation of generators."
   ]
  },
  {
   "cell_type": "raw",
   "metadata": {},
   "source": [
    "2- What is the relationship between generators and iterators?"
   ]
  },
  {
   "cell_type": "raw",
   "metadata": {},
   "source": [
    "#answer\n"
   ]
  },
  {
   "cell_type": "raw",
   "metadata": {},
   "source": [
    "3- What are the signs that a function is a generator function?"
   ]
  },
  {
   "cell_type": "raw",
   "metadata": {},
   "source": [
    "#answer\n"
   ]
  },
  {
   "cell_type": "raw",
   "metadata": {},
   "source": [
    "4- What is the purpose of a yield statement?"
   ]
  },
  {
   "cell_type": "raw",
   "metadata": {},
   "source": [
    "#answer\n"
   ]
  },
  {
   "cell_type": "raw",
   "metadata": {},
   "source": [
    "5- What is the relationship between map calls and list comprehensions? Make a comparison and\n",
    "contrast between the two."
   ]
  },
  {
   "cell_type": "raw",
   "metadata": {},
   "source": [
    "#answer\n"
   ]
  }
 ],
 "metadata": {
  "kernelspec": {
   "display_name": "Python 3",
   "language": "python",
   "name": "python3"
  },
  "language_info": {
   "codemirror_mode": {
    "name": "ipython",
    "version": 3
   },
   "file_extension": ".py",
   "mimetype": "text/x-python",
   "name": "python",
   "nbconvert_exporter": "python",
   "pygments_lexer": "ipython3",
   "version": "3.6.4"
  }
 },
 "nbformat": 4,
 "nbformat_minor": 2
}
