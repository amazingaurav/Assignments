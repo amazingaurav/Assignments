{
 "cells": [
  {
   "cell_type": "markdown",
   "metadata": {},
   "source": [
    "Q1.Why are functions advantageous to have in your programs?\n",
    "\n",
    "ANSWER\n",
    "\n",
    "functions help in resusing the code, hiding the code, avoiding duplication of code."
   ]
  },
  {
   "cell_type": "markdown",
   "metadata": {},
   "source": [
    "Q2.When does the code in a function run: when it's specified or when it's called?\n",
    "\n",
    "    \n",
    "------------------------\n",
    "\n",
    "ANSWER\n",
    "\n",
    "function is run when it is called."
   ]
  },
  {
   "cell_type": "markdown",
   "metadata": {},
   "source": [
    "Q3.What statement creates a function?\n",
    "\n",
    "-----------------\n",
    "\n",
    "\n",
    "ANSWER\n",
    "\n",
    "def\n",
    "\n"
   ]
  },
  {
   "cell_type": "markdown",
   "metadata": {},
   "source": [
    "Q4. What is the difference between a function and a function call?\n",
    "\n",
    "\n",
    "----------\n",
    "\n",
    "\n",
    "ANSWER\n",
    "\n",
    "A function is a procedure to achieve a particular result while function call means invoking or calling that function\n"
   ]
  },
  {
   "cell_type": "markdown",
   "metadata": {},
   "source": [
    "Q5. How many global scopes are there in a Python program? How many local scopes?\n",
    "\n",
    "------------\n",
    "\n",
    "\n",
    "ANSWER\n",
    "\n",
    "There is only 1 global scope in a python program and there can be as many as number of local scopes as required."
   ]
  },
  {
   "cell_type": "markdown",
   "metadata": {},
   "source": [
    "Q6. What happens to variables in a local scope when the function call returns?\n",
    "\n",
    "---------------\n",
    "\n",
    "ANSWER\n",
    "\n",
    "local variables are distroyed as soon as the function execution finished."
   ]
  },
  {
   "cell_type": "markdown",
   "metadata": {},
   "source": [
    "Q7. What is the concept of a return value? Is it possible to have a return value in an expression?\n",
    "\n",
    "\n",
    "-----------\n",
    "\n",
    "ANSWER\n",
    "\n",
    "\n",
    "Return value is something which is returned when the function execution terminates. No, it is not possible to return value in an expression.\n"
   ]
  },
  {
   "cell_type": "markdown",
   "metadata": {},
   "source": [
    "Q8. If a function does not have a return statement, what is the return value of a call to that function?\n",
    "\n",
    "--------------\n",
    "\n",
    "ANSWER\n",
    "\n",
    "Return value of a function without a return statement is None."
   ]
  },
  {
   "cell_type": "markdown",
   "metadata": {},
   "source": [
    "Q9. How do you make a function variable refer to the global variable?\n",
    "\n",
    "-----------------\n",
    "\n",
    "ANSWER\n",
    "\n",
    "using the keyword global before the variable name\n"
   ]
  },
  {
   "cell_type": "markdown",
   "metadata": {},
   "source": [
    "Q10. What is the data type of None?\n",
    "\n",
    "-----------\n",
    "\n",
    "ANSWER\n",
    "\n",
    "NoneType is the data type of None."
   ]
  },
  {
   "cell_type": "markdown",
   "metadata": {},
   "source": [
    "Q11. What does the sentence import areallyourpetsnamederic do?\n",
    "\n",
    "------------\n",
    "\n",
    "ANSWER\n",
    "\n",
    "This statement will import the module areallyourpetsnamederic to the program\n",
    "\n"
   ]
  },
  {
   "cell_type": "markdown",
   "metadata": {},
   "source": [
    "Q12. If you had a bacon() feature in a spam module, what would you call it after importing spam?\n",
    "\n",
    "---------------\n",
    "\n",
    "\n",
    "ANSWER\n",
    "\n",
    "\n",
    "spam.bacon()"
   ]
  },
  {
   "cell_type": "markdown",
   "metadata": {},
   "source": [
    "Q13. What can you do to save a programme from crashing if it encounters an error?\n",
    "\n",
    "\n",
    "--------------\n",
    "\n",
    "\n",
    "ANSWER\n",
    "\n",
    "error handling can be used to stop the program from crashing\n"
   ]
  },
  {
   "cell_type": "markdown",
   "metadata": {},
   "source": [
    "Q14. What is the purpose of the try clause? What is the purpose of the except clause?\n",
    "\n",
    "\n",
    "-------------------------\n",
    "\n",
    "ANSWER\n",
    "\n",
    "try clause enable you to test a block of code for errors and except clause handles the error with the user defined response."
   ]
  },
  {
   "cell_type": "code",
   "execution_count": null,
   "metadata": {},
   "outputs": [],
   "source": []
  }
 ],
 "metadata": {
  "kernelspec": {
   "display_name": "Python 3",
   "language": "python",
   "name": "python3"
  },
  "language_info": {
   "codemirror_mode": {
    "name": "ipython",
    "version": 3
   },
   "file_extension": ".py",
   "mimetype": "text/x-python",
   "name": "python",
   "nbconvert_exporter": "python",
   "pygments_lexer": "ipython3",
   "version": "3.6.4"
  }
 },
 "nbformat": 4,
 "nbformat_minor": 2
}
