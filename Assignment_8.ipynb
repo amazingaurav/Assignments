{
 "cells": [
  {
   "cell_type": "raw",
   "metadata": {},
   "source": [
    "1- Is the Python Standard Library included with PyInputPlus?"
   ]
  },
  {
   "cell_type": "raw",
   "metadata": {},
   "source": [
    "answer- PyInputPlus is a 3rd party module"
   ]
  },
  {
   "cell_type": "raw",
   "metadata": {},
   "source": [
    "2- Why is PyInputPlus commonly imported with import pyinputplus as pypi?"
   ]
  },
  {
   "cell_type": "raw",
   "metadata": {},
   "source": [
    "answer- aliases makes it easy calling a module"
   ]
  },
  {
   "cell_type": "raw",
   "metadata": {},
   "source": [
    "3- How do you distinguish between inputInt() and inputFloat()?"
   ]
  },
  {
   "cell_type": "raw",
   "metadata": {},
   "source": [
    "answer- inputInt will return an integer value where as inputFloat will return a floating point value"
   ]
  },
  {
   "cell_type": "raw",
   "metadata": {},
   "source": [
    "4- Using PyInputPlus, how do you ensure that the user enters a whole number between 0 and 99?"
   ]
  },
  {
   "cell_type": "raw",
   "metadata": {},
   "source": [
    "answer- by using pypi.inputInt(min=0,max=99)"
   ]
  },
  {
   "cell_type": "raw",
   "metadata": {},
   "source": [
    "5- What is transferred to the keyword arguments allowRegexes and blockRegexes?"
   ]
  },
  {
   "cell_type": "raw",
   "metadata": {},
   "source": [
    "answer- list of strings that should be allowed or blocked while taking input from the user"
   ]
  },
  {
   "cell_type": "raw",
   "metadata": {},
   "source": [
    "6- If a blank input is entered three times, what does inputStr(limit=3) do?"
   ]
  },
  {
   "cell_type": "raw",
   "metadata": {},
   "source": [
    "answer- it raises TimeoutException"
   ]
  },
  {
   "cell_type": "raw",
   "metadata": {},
   "source": [
    "7-If blank input is entered three times, what does inputStr(limit=3, default='hello') do?"
   ]
  },
  {
   "cell_type": "raw",
   "metadata": {},
   "source": [
    "answer- prints hello 3 times"
   ]
  }
 ],
 "metadata": {
  "kernelspec": {
   "display_name": "Python 3",
   "language": "python",
   "name": "python3"
  },
  "language_info": {
   "codemirror_mode": {
    "name": "ipython",
    "version": 3
   },
   "file_extension": ".py",
   "mimetype": "text/x-python",
   "name": "python",
   "nbconvert_exporter": "python",
   "pygments_lexer": "ipython3",
   "version": "3.6.4"
  }
 },
 "nbformat": 4,
 "nbformat_minor": 2
}
