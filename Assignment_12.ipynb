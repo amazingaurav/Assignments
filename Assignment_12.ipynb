{
 "cells": [
  {
   "cell_type": "raw",
   "metadata": {},
   "source": [
    "1- In what modes should the PdfFileReader() and PdfFileWriter() File objects will be opened?"
   ]
  },
  {
   "cell_type": "raw",
   "metadata": {},
   "source": [
    "answer- \n",
    "rb mode for PdfFileReader()\n",
    "wb mode for PdfFileWriter()\n"
   ]
  },
  {
   "cell_type": "raw",
   "metadata": {},
   "source": [
    "2- From a PdfFileReader object, how do you get a Page object for page 5?"
   ]
  },
  {
   "cell_type": "raw",
   "metadata": {},
   "source": [
    "answer-\n",
    "by using getPage(page_no) function"
   ]
  },
  {
   "cell_type": "raw",
   "metadata": {},
   "source": [
    "3- What PdfFileReader variable stores the number of pages in the PDF document?"
   ]
  },
  {
   "cell_type": "raw",
   "metadata": {},
   "source": [
    "answer-\n",
    "getNumPages() stores number of pages"
   ]
  },
  {
   "cell_type": "raw",
   "metadata": {},
   "source": [
    "4- If a PdfFileReader object’s PDF is encrypted with the password swordfish, what must you do before you can obtain Page objects from it?"
   ]
  },
  {
   "cell_type": "raw",
   "metadata": {},
   "source": [
    "answer-\n",
    "PdfFileReader class has an attribute isEncrypted to check for encryption giving result as True or False.\n",
    "decrypt() method can be used to obtain page objects."
   ]
  },
  {
   "cell_type": "raw",
   "metadata": {},
   "source": [
    "5- What methods do you use to rotate a page?"
   ]
  },
  {
   "cell_type": "raw",
   "metadata": {},
   "source": [
    "answer-\n",
    "rotateClockWise() can be used for clockwise rotation\n",
    "rotateCounterClockWise() can be used for Counter Clockwise rotation"
   ]
  },
  {
   "cell_type": "raw",
   "metadata": {},
   "source": [
    "6- What is the difference between a Run object and a Paragraph object?"
   ]
  },
  {
   "cell_type": "raw",
   "metadata": {},
   "source": [
    "answer-\n",
    "The Document object contains a list of paragraph objects, for the paragraphs in the document, which begins with a newline character.\n",
    "Each of these paragraph objects contains a list of one or more Run objects which are contiguous groups of characters."
   ]
  },
  {
   "cell_type": "raw",
   "metadata": {},
   "source": [
    "7-  How do you obtain a list of Paragraph objects for a Document object that’s stored in a variable named doc?"
   ]
  },
  {
   "cell_type": "raw",
   "metadata": {},
   "source": [
    "answer-\n",
    "using doc.paragraphs"
   ]
  },
  {
   "cell_type": "raw",
   "metadata": {},
   "source": [
    "8- What type of object has bold, underline, italic, strike, and outline variables?"
   ]
  },
  {
   "cell_type": "raw",
   "metadata": {},
   "source": [
    "answer-\n",
    "these are all included in run object"
   ]
  },
  {
   "cell_type": "raw",
   "metadata": {},
   "source": [
    "9- What is the difference between False, True, and None for the bold variable?"
   ]
  },
  {
   "cell_type": "raw",
   "metadata": {},
   "source": [
    "answer-\n",
    "irrespective of the current bold settings, True will make the run object bold, False will make not bold.\n",
    "None will make the Run object use the current bold setting."
   ]
  },
  {
   "cell_type": "raw",
   "metadata": {},
   "source": [
    "10- How do you create a Document object for a new Word document?"
   ]
  },
  {
   "cell_type": "raw",
   "metadata": {},
   "source": [
    "answer-\n",
    "by calling docx.Document() function"
   ]
  },
  {
   "cell_type": "raw",
   "metadata": {},
   "source": [
    "11- How do you add a paragraph with the text 'Hello, there!' to a Document object stored in a variable named doc?"
   ]
  },
  {
   "cell_type": "raw",
   "metadata": {},
   "source": [
    "answer-\n",
    "using following command:\n",
    "doc.add_paragraph('Hello, there!')"
   ]
  },
  {
   "cell_type": "raw",
   "metadata": {},
   "source": [
    "12- What integers represent the levels of headings available in Word documents?"
   ]
  },
  {
   "cell_type": "raw",
   "metadata": {},
   "source": [
    "answer-\n",
    "0 to 4 integers are used to represent the levels of headings"
   ]
  }
 ],
 "metadata": {
  "kernelspec": {
   "display_name": "Python 3",
   "language": "python",
   "name": "python3"
  },
  "language_info": {
   "codemirror_mode": {
    "name": "ipython",
    "version": 3
   },
   "file_extension": ".py",
   "mimetype": "text/x-python",
   "name": "python",
   "nbconvert_exporter": "python",
   "pygments_lexer": "ipython3",
   "version": "3.6.4"
  }
 },
 "nbformat": 4,
 "nbformat_minor": 2
}
