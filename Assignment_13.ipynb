{
 "cells": [
  {
   "cell_type": "raw",
   "metadata": {},
   "source": [
    "1- What advantages do Excel spreadsheets have over CSV spreadsheets?"
   ]
  },
  {
   "cell_type": "raw",
   "metadata": {},
   "source": [
    "answer- \n",
    "data is stored in binary format in excel spreadsheets so images can also be stored in it which is not possible in csv spreadsheets."
   ]
  },
  {
   "cell_type": "raw",
   "metadata": {},
   "source": [
    "2- What do you pass to csv.reader() and csv.writer() to create reader and writer objects?"
   ]
  },
  {
   "cell_type": "raw",
   "metadata": {},
   "source": [
    "answer-\n",
    "file object is passed"
   ]
  },
  {
   "cell_type": "raw",
   "metadata": {},
   "source": [
    "3- What modes do File objects for reader and writer objects need to be opened in?"
   ]
  },
  {
   "cell_type": "raw",
   "metadata": {},
   "source": [
    "answer-\n",
    "read binary - 'rb' for reader objects\n",
    "write binary - 'wb' for writer objects"
   ]
  },
  {
   "cell_type": "raw",
   "metadata": {},
   "source": [
    "4- What method takes a list argument and writes it to a CSV file?"
   ]
  },
  {
   "cell_type": "raw",
   "metadata": {},
   "source": [
    "answer-\n",
    "using writerow() method"
   ]
  },
  {
   "cell_type": "raw",
   "metadata": {},
   "source": [
    "5- What do the keyword arguments delimiter and line terminator do?"
   ]
  },
  {
   "cell_type": "raw",
   "metadata": {},
   "source": [
    "answer-\n",
    "Line terminator comes at end of a row eg. newline character and delimiter comes in between the cells in a row"
   ]
  },
  {
   "cell_type": "raw",
   "metadata": {},
   "source": [
    "6- What function takes a string of JSON data and returns a Python data structure?"
   ]
  },
  {
   "cell_type": "raw",
   "metadata": {},
   "source": [
    "answer-\n",
    "json.loads() methon takes a string of json data and returns python data structure."
   ]
  },
  {
   "cell_type": "raw",
   "metadata": {},
   "source": [
    "7-  What function takes a Python data structure and returns a string of JSON data?"
   ]
  },
  {
   "cell_type": "raw",
   "metadata": {},
   "source": [
    "answer-\n",
    "json.dumps() method takes python data structure as input and returns a string of json data."
   ]
  }
 ],
 "metadata": {
  "kernelspec": {
   "display_name": "Python 3",
   "language": "python",
   "name": "python3"
  },
  "language_info": {
   "codemirror_mode": {
    "name": "ipython",
    "version": 3
   },
   "file_extension": ".py",
   "mimetype": "text/x-python",
   "name": "python",
   "nbconvert_exporter": "python",
   "pygments_lexer": "ipython3",
   "version": "3.6.4"
  }
 },
 "nbformat": 4,
 "nbformat_minor": 2
}
