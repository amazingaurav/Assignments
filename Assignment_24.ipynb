{
 "cells": [
  {
   "cell_type": "raw",
   "metadata": {},
   "source": [
    "1- What is the relationship between def statements and lambda expressions ?"
   ]
  },
  {
   "cell_type": "raw",
   "metadata": {},
   "source": [
    "#answer\n",
    "def keyword is used to create a normal function where as lambda keyword is used to define an anonymous function.\n",
    "lambda are one liner/single expresion functions where as normal functions are a block of statements.\n",
    "lambda "
   ]
  },
  {
   "cell_type": "raw",
   "metadata": {},
   "source": [
    "2- What is the benefit of lambda?"
   ]
  },
  {
   "cell_type": "raw",
   "metadata": {},
   "source": [
    "#answer\n",
    "it can be used to create a single time use one liner functions that do not take much coding space.\n",
    "lambda functions can be assigned to a variable that can then be used as and when required.\n",
    "it can be defined without a name as well"
   ]
  },
  {
   "cell_type": "raw",
   "metadata": {},
   "source": [
    "3- Compare and contrast map, filter, and reduce."
   ]
  },
  {
   "cell_type": "raw",
   "metadata": {},
   "source": [
    "#answer\n",
    "map()- The map() function is a higher-order function. this function accepts another function and a sequence of iterables as parameters and provides output after applying the function to each iterable in the sequence\n",
    "filter()- The filter() function is used to generate an output list of values that return true when the function is called.\n",
    "reduce()- The reduce() function applies a provided function to iterables and returns a single value."
   ]
  },
  {
   "cell_type": "raw",
   "metadata": {},
   "source": [
    "4- What are function annotations, and how are they used?"
   ]
  },
  {
   "cell_type": "raw",
   "metadata": {},
   "source": [
    "#answer\n",
    "Function annotations are arbitrary python expressions that are associated with various part of functions. These expressions are evaluated at compile time and have no life in python’s runtime environment. Python does not attach any meaning to these annotations."
   ]
  },
  {
   "cell_type": "raw",
   "metadata": {},
   "source": [
    "5- What are recursive functions, and how are they used?"
   ]
  },
  {
   "cell_type": "raw",
   "metadata": {},
   "source": [
    "#answer\n",
    "A recursive function is a function that calls itself during its execution.\n",
    "The process may repeat several times, outputting the result and the end of each iteration."
   ]
  },
  {
   "cell_type": "raw",
   "metadata": {},
   "source": [
    "6- What are some general design guidelines for coding functions?"
   ]
  },
  {
   "cell_type": "raw",
   "metadata": {},
   "source": [
    "#answer\n",
    "1. Use 4 spaces for indentation avoid using tabs\n",
    "2. always use doc strings and comments whereever necessary\n",
    "3. avoid using global variables\n",
    "4. use camelcasing format\n",
    "5. digits and special characters should not be used when defining variables\n",
    "6. name of the functions/variables should be understandable."
   ]
  },
  {
   "cell_type": "raw",
   "metadata": {},
   "source": [
    "7- Name three or more ways that functions can communicate results to a caller."
   ]
  },
  {
   "cell_type": "raw",
   "metadata": {},
   "source": [
    "#answer\n",
    "print,yeild and return"
   ]
  }
 ],
 "metadata": {
  "kernelspec": {
   "display_name": "Python 3",
   "language": "python",
   "name": "python3"
  },
  "language_info": {
   "codemirror_mode": {
    "name": "ipython",
    "version": 3
   },
   "file_extension": ".py",
   "mimetype": "text/x-python",
   "name": "python",
   "nbconvert_exporter": "python",
   "pygments_lexer": "ipython3",
   "version": "3.6.4"
  }
 },
 "nbformat": 4,
 "nbformat_minor": 2
}
