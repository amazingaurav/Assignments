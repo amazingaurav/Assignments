{
 "cells": [
  {
   "cell_type": "raw",
   "metadata": {},
   "source": [
    "1- Create an assert statement that throws an AssertionError if the variable spam is a negative\n",
    "integer."
   ]
  },
  {
   "cell_type": "raw",
   "metadata": {},
   "source": [
    "answer- assert(spam >= 0, 'The spam variable is less than 0.')"
   ]
  },
  {
   "cell_type": "raw",
   "metadata": {},
   "source": [
    "2- Write an assert statement that triggers an AssertionError if the variables eggs and bacon contain strings that are the same as each other, even if their cases are different (that is, 'hello' and 'hello' are considered the same, and 'goodbye' and 'GOODbye' are also considered the same)."
   ]
  },
  {
   "cell_type": "raw",
   "metadata": {},
   "source": [
    "answer- assert eggs.lower() != bacon.lower(), 'The eggs and bacon variables are the same!' or assert eggs.upper() != bacon.upper(), 'The eggs and bacon variables are the same!'"
   ]
  },
  {
   "cell_type": "raw",
   "metadata": {},
   "source": [
    "3- Create an assert statement that throws an AssertionError every time."
   ]
  },
  {
   "cell_type": "raw",
   "metadata": {},
   "source": [
    "answer- assert False, 'This assertion always triggers.'"
   ]
  },
  {
   "cell_type": "raw",
   "metadata": {},
   "source": [
    "4- What are the two lines that must be present in your software in order to call logging.debug()?"
   ]
  },
  {
   "cell_type": "raw",
   "metadata": {},
   "source": [
    "answer-\n",
    "\n",
    "import logging\n",
    "\n",
    "logging.basicConfig(level=logging.DEBUG, format=' %(asctime)s -%(levelname)s - %(message)s')"
   ]
  },
  {
   "cell_type": "raw",
   "metadata": {},
   "source": [
    "5- What are the two lines that your program must have in order to have logging.debug() send a\n",
    "logging message to a file named programLog.txt?"
   ]
  },
  {
   "cell_type": "raw",
   "metadata": {},
   "source": [
    "answer-\n",
    "\n",
    "import logging\n",
    "\n",
    "logging.basicConfig(filename='programLog.txt', level=logging.DEBUG,format=' %(asctime)s - %(levelname)s - %(message)s')"
   ]
  },
  {
   "cell_type": "raw",
   "metadata": {},
   "source": [
    "6- What are the five levels of logging?"
   ]
  },
  {
   "cell_type": "raw",
   "metadata": {},
   "source": [
    "answer-\n",
    "\n",
    "DEBUG, INFO, WARNING, ERROR, and CRITICAL"
   ]
  },
  {
   "cell_type": "raw",
   "metadata": {},
   "source": [
    "7- What line of code would you add to your software to disable all logging messages?"
   ]
  },
  {
   "cell_type": "raw",
   "metadata": {},
   "source": [
    "answer-\n",
    "\n",
    "logging.disable(logging.CRITICAL)"
   ]
  },
  {
   "cell_type": "raw",
   "metadata": {},
   "source": [
    "8- Why is using logging messages better than using print() to display the same message?"
   ]
  },
  {
   "cell_type": "raw",
   "metadata": {},
   "source": [
    "answer- \n",
    "\n",
    "print() statement fails if your code does not have access to the console\n",
    "print() statement only displays messages on the console. Recording logging data inside a file or sending it over the internet needs additional works."
   ]
  },
  {
   "cell_type": "raw",
   "metadata": {},
   "source": [
    "9- What are the differences between the Step Over, Step In, and Step Out buttons in the debugger?"
   ]
  },
  {
   "cell_type": "raw",
   "metadata": {},
   "source": [
    "answer-\n",
    "\n",
    "Step in: means that if there is a function call, it goes inside the function and you can see how the function is executing line by line till it returns and you go back to the next line right after the function call.\n",
    "\n",
    "Step over: means that if there is a function call, it just executes it like a black box and returns the result, but you cannot see how the function was executed.\n",
    "\n",
    "Step out: means that if you have Stepped in a function and now you want to skip seeing how the rest of the function is going to execute, you Step out and the function returns. Then, you go back to the next line, that is the line right after the function call."
   ]
  },
  {
   "cell_type": "raw",
   "metadata": {},
   "source": [
    "10- After you click Continue, when will the debugger stop ?"
   ]
  },
  {
   "cell_type": "raw",
   "metadata": {},
   "source": [
    "answer- debugger will only stop when it'll reach end of the program or a breakpoint."
   ]
  },
  {
   "cell_type": "raw",
   "metadata": {},
   "source": [
    "11- What is the concept of a breakpoint?"
   ]
  },
  {
   "cell_type": "raw",
   "metadata": {},
   "source": [
    "answer- breakpoint() built-in function is a tool that allows developers to set points in code at which a debugger is called."
   ]
  }
 ],
 "metadata": {
  "kernelspec": {
   "display_name": "Python 3",
   "language": "python",
   "name": "python3"
  },
  "language_info": {
   "codemirror_mode": {
    "name": "ipython",
    "version": 3
   },
   "file_extension": ".py",
   "mimetype": "text/x-python",
   "name": "python",
   "nbconvert_exporter": "python",
   "pygments_lexer": "ipython3",
   "version": "3.6.4"
  }
 },
 "nbformat": 4,
 "nbformat_minor": 2
}
