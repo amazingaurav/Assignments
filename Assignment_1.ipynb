{
 "cells": [
  {
   "cell_type": "markdown",
   "metadata": {},
   "source": [
    "Q1\n",
    "\n",
    "In the below elements which of them are values or an expression? eg:- values can be integer or string and expressions will be mathematical operators.\n",
    " \n",
    "- 'hello'\n",
    "- -87.8\n",
    "- -\n",
    "- /\n",
    "- +\n",
    "- 6\n",
    "\n",
    "\n",
    "ANSWER\n",
    "\n",
    "- ''hello'' is value\n",
    "\n",
    "- '-87.8' is value\n",
    "\n",
    "- '-' is expression\n",
    "\n",
    "- '/' is expression\n",
    "\n",
    "- '+' is expression\n",
    "\n",
    "- '6' is value\n"
   ]
  },
  {
   "cell_type": "markdown",
   "metadata": {},
   "source": [
    "Q2\n",
    "\n",
    "What is the difference between string and variable?\n",
    "\n",
    "ANSWER\n",
    "\n",
    "string are array of bytes representing characters. It is made by either single or double quotation marks. Elements of a string can be accessed by using square brackets with specified index. strings are immutable.\n",
    "whereas Variable is just an object that reserves a memory location to store different data type values."
   ]
  },
  {
   "cell_type": "markdown",
   "metadata": {},
   "source": [
    "Q3\n",
    "\n",
    "Describe three different data types.\n",
    "\n",
    "ANSWER\n",
    "\n",
    "1-List\n",
    "\n",
    "List is an order collection of heterogenous data types. it is mutable and hence can be altered even after creation. each element has a definite place so it even allows storage of duplicate elements. Can be created by just placing the sequence of elements, separated by commas, in square [] brackets.\n",
    "\n",
    "\n",
    "2-Tuple\n",
    "\n",
    "Tuples are defined just like List with a small diffence of brackets, here closed () parentheses are used. tuples are immutable and once it is defined it cannot be altered. it can also contain any number of elements of any data type.\n",
    "\n",
    "\n",
    "3-Dictionary\n",
    "\n",
    "Dictionary is an unordered collection of data values in key:value pair. created by placing elements in curly {} braces. values of dictionary can be duplicate, whereas keys cannot be repeated and must be mutable.\n",
    "\n",
    "\n",
    "\n"
   ]
  },
  {
   "cell_type": "markdown",
   "metadata": {},
   "source": [
    "\n",
    "\n",
    "Q4\n",
    "\n",
    "What is an expression made up of? What do all expressions do?\n",
    "\n",
    "ANSWER\n",
    "\n",
    "expression is an instruction that consists of combination of values, variables, operators or call to a function.\n",
    "all expressions evaluates to a single value"
   ]
  },
  {
   "cell_type": "markdown",
   "metadata": {},
   "source": [
    "Q5\n",
    "\n",
    "This assignment statements, like spam = 10. What is the difference between an expression and a statement?\n",
    "\n",
    "ANSWER\n",
    "\n",
    "a statement does not evaluates down to a value whereas an expression does."
   ]
  },
  {
   "cell_type": "markdown",
   "metadata": {},
   "source": [
    "Q6\n",
    "\n",
    "After running the following code, what does the variable bacon contain?\n",
    "bacon = 22\n",
    "bacon + 1\n",
    "\n",
    "\n",
    "ANSWER\n",
    "\n",
    "22"
   ]
  },
  {
   "cell_type": "markdown",
   "metadata": {},
   "source": [
    "Q7\n",
    "\n",
    "What should the values of the following two terms be?\n",
    "'spam' + 'spamspam'\n",
    "'spam' * 3\n",
    "\n",
    "\n",
    "ANSWER\n",
    "\n"
   ]
  },
  {
   "cell_type": "code",
   "execution_count": 8,
   "metadata": {},
   "outputs": [
    {
     "data": {
      "text/plain": [
       "'spamspamspam'"
      ]
     },
     "execution_count": 8,
     "metadata": {},
     "output_type": "execute_result"
    }
   ],
   "source": [
    "'spam' + 'spamspam'"
   ]
  },
  {
   "cell_type": "code",
   "execution_count": 9,
   "metadata": {},
   "outputs": [
    {
     "data": {
      "text/plain": [
       "'spamspamspam'"
      ]
     },
     "execution_count": 9,
     "metadata": {},
     "output_type": "execute_result"
    }
   ],
   "source": [
    "'spam' * 3"
   ]
  },
  {
   "cell_type": "markdown",
   "metadata": {},
   "source": [
    "Q8\n",
    "\n",
    "Why is eggs a valid variable name while 100 is invalid?\n",
    "\n",
    "ANSWER\n",
    "\n",
    "as per the standard definition a variable name cannot start with an integer"
   ]
  },
  {
   "cell_type": "markdown",
   "metadata": {},
   "source": [
    "Q9\n",
    "\n",
    "What three functions can be used to get the integer, floating-point number, or string version of a value?\n",
    "\n",
    "ANSWER\n",
    "\n",
    "to get integer - int()\n",
    "\n",
    "to get floating point number - float()\n",
    "\n",
    "to get a string - str()"
   ]
  },
  {
   "cell_type": "markdown",
   "metadata": {},
   "source": [
    "Q10\n",
    "\n",
    "Why does this expression cause an error? How can you fix it?\n",
    "'I have eaten ' + 99 + ' burritos.\n",
    "\n",
    "\n",
    "ANSWER\n",
    "\n",
    "because 99 is an integer value that is being concatenated with two strings. To avoid error this should be included in inverted commas like '99'"
   ]
  },
  {
   "cell_type": "code",
   "execution_count": null,
   "metadata": {},
   "outputs": [],
   "source": []
  }
 ],
 "metadata": {
  "kernelspec": {
   "display_name": "Python 3",
   "language": "python",
   "name": "python3"
  },
  "language_info": {
   "codemirror_mode": {
    "name": "ipython",
    "version": 3
   },
   "file_extension": ".py",
   "mimetype": "text/x-python",
   "name": "python",
   "nbconvert_exporter": "python",
   "pygments_lexer": "ipython3",
   "version": "3.6.4"
  }
 },
 "nbformat": 4,
 "nbformat_minor": 2
}
